{
 "cells": [
  {
   "cell_type": "markdown",
   "id": "15989b8a",
   "metadata": {},
   "source": [
    "To play with the code from *vect_wavelength* branch as of 16 May 2023"
   ]
  },
  {
   "cell_type": "code",
   "execution_count": null,
   "id": "18cb1291",
   "metadata": {},
   "outputs": [],
   "source": [
    "import sys\n",
    "import importlib\n",
    "\n",
    "import numpy as np\n",
    "import matplotlib.pylab as plt\n",
    "from tqdm import tqdm \n",
    "\n",
    "import models\n",
    "import models.spotted_star"
   ]
  },
  {
   "cell_type": "code",
   "execution_count": null,
   "id": "4ec25790",
   "metadata": {},
   "outputs": [],
   "source": [
    "importlib.reload(models)\n",
    "importlib.reload(models.spotted_star)"
   ]
  },
  {
   "cell_type": "code",
   "execution_count": null,
   "id": "5f329dad",
   "metadata": {},
   "outputs": [],
   "source": [
    "# define star model\n",
    "model = models.spotted_star.StarModel(nth=1000, nr=n_annuli)"
   ]
  },
  {
   "cell_type": "markdown",
   "id": "5fdebe19",
   "metadata": {},
   "source": [
    "## Single Spot - single timestep"
   ]
  },
  {
   "cell_type": "code",
   "execution_count": null,
   "id": "6e621676",
   "metadata": {},
   "outputs": [],
   "source": [
    "# One spot\n",
    "\n",
    "lat, lon, rspot = 25, 30, 0.2\n",
    "\n",
    "spotted_mask, fraction_spot_out = model.lc_mask(lat, lon, rspot)\n",
    "\n",
    "model.show(spotted_mask, axis=True)\n",
    "plt.show()\n",
    "\n",
    "plt.plot(fraction_spot_out)\n",
    "plt.xlabel('R')\n",
    "plt.ylabel('Mask ratio')\n",
    "pass"
   ]
  },
  {
   "cell_type": "code",
   "execution_count": null,
   "id": "e11bb145",
   "metadata": {
    "scrolled": false
   },
   "outputs": [],
   "source": [
    "from models.spotted_star import spher_to_cart\n",
    "\n",
    "# add planet\n",
    "\n",
    "_, y, z = spher_to_cart(lat, lon)  # Samish center as spot\n",
    "yp, zp, rp = y, z, 0.1\n",
    "print(yp, zp)\n",
    "\n",
    "#yp, zp, rp = 0.42, 0.4, 0.1\n",
    "\n",
    "fraction_spot, fraction_planet, ff_spot, ff_planet = model.lc_mask_with_planet(spotted_mask, yp, zp, rp)\n",
    "\n",
    "occulted_fraction = fraction_spot_out - fraction_spot.squeeze()\n",
    "\n",
    "model.show(spotted_mask, yp, zp, rp, axis=True)\n",
    "plt.axvline(0, color='black', label='meridian',\n",
    "                    linestyle='dashed', linewidth=0.7)\n",
    "plt.show()\n",
    "\n",
    "\n",
    "_, ax = plt.subplots(4, sharex=True)\n",
    "ax[0].plot(fraction_spot_out.squeeze(), label='total spot fraction')\n",
    "ax[1].plot(fraction_planet.squeeze(), label='planet fraction')\n",
    "ax[2].plot(fraction_spot.squeeze(), label='visible spot fraction')\n",
    "ax[3].plot(occulted_fraction.squeeze(), label='occulted spot fraction') \n",
    "for x in ax:\n",
    "    x.legend()\n",
    "ax[3].set_xlabel('R')\n",
    "plt.show()"
   ]
  },
  {
   "cell_type": "markdown",
   "id": "abaa7bc6",
   "metadata": {},
   "source": [
    "## Full light curve"
   ]
  },
  {
   "cell_type": "code",
   "execution_count": null,
   "id": "90ae59a0",
   "metadata": {
    "scrolled": true
   },
   "outputs": [],
   "source": [
    "import pylightcurve as plc\n",
    "import astropy.units as u\n",
    "\n",
    "star_radius = 0.8*u.solRad\n",
    "planet_radius = 0.273*u.jupiterRad\n",
    "planet_mass = 0.0157*u.jupiterMass\n",
    "planet_period = 2 #days\n",
    "planet_inc = 92 ####\n",
    "\n",
    "\n",
    "ratio = (planet_radius.to(u.m)/(star_radius.to(u.m)))\n",
    "\n",
    "sma_over_r_star = ((0.05*u.AU).to(u.m)/(star_radius).to(u.m)).base\n",
    "\n",
    "n_hours    =  1.\n",
    "time       = np.arange(0,2*n_hours*60*60, 100)\n",
    "\n",
    "(position_x, position_y, position_z)     =  plc.planet_orbit(planet_period, sma_over_r_star, 0, planet_inc, 0, 0, 0-n_hours/24.+time/(3600.*24.))\n",
    "\n",
    "\n",
    "model.show(spotted_mask, position_y, position_z, ratio, axis=True)"
   ]
  },
  {
   "cell_type": "code",
   "execution_count": null,
   "id": "7a18bcad",
   "metadata": {},
   "outputs": [],
   "source": [
    "# Taurex inputs\n",
    "path = ...\n",
    "temp_star    = np.load(path+'temp_star.npy') \n",
    "tr_spectrum  = np.load(path+'tm_spectrum.npy')\n",
    "wavelength   = np.load(path+'wl_grid.npy')\n",
    "ldc          = np.load(path+'ldc.npy')\n",
    "#ldc          = np.zeros(ldc.shape)\n",
    "photosphere  = np.load(path+'photosphere.npy')\n",
    "spot         = np.load(path+'spot.npy')\n",
    "photosphere_phoenix  = np.load(path+'photosphere_phoenix.npy')\n",
    "spot_phoenix  = np.load(path+'spot_phoenix.npy')\n",
    "bin_widths = np.load(path+'bin_widths.npy')\n",
    "mu        = np.sqrt(1.-model.radii**2.)\n",
    "\n",
    "def int_profile(mu,ldc):\n",
    "    return 1.-ldc[:,0,None]*(1.-mu**(1./2.))-ldc[:,1,None]*(1.-mu)-ldc[:,2,None]*(1.-mu**(3./2.))-ldc[:,3,None]*(1.-mu**2.)\n",
    "def int_abs(flux,ldc):\n",
    "    int_zero = flux/(2.*np.pi*(1./2.-ldc[:,0]/10.-ldc[:,1]/6.-3.*ldc[:,2]/14.-ldc[:,3]/4.))\n",
    "    return int_zero[:,None]*int_profile(mu,ldc)\n",
    "abs_flux_phot = int_abs(photosphere_phoenix,ldc)\n",
    "abs_flux_spot = int_abs(spot_phoenix,ldc)\n",
    "\n",
    "flux_drop  = np.zeros([len(wavelength),len(time)]) \n",
    "for i in range(len(wavelength)):\n",
    "    flux_drop[i,:]  =  plc.transit(ldc[i,:], np.array([tr_spectrum[i]**(1./2.)]), planet_period, sma_over_r_star, 0, planet_inc, 0, 0, 0 -n_hours/24.+time/(3600.*24.),'claret')\n",
    "\n",
    "spotted_profile = abs_flux_phot*(1.-fraction_spot_out)+abs_flux_spot*fraction_spot_out\n",
    "flux_out  = np.sum(2.0*np.pi*model.radii*model.deltar*spotted_profile,axis=1)\n",
    "\n",
    "# containers for LC\n",
    "spotlc              = np.zeros([len(time),len(wavelength)])\n",
    "spotlc_no_bumps     = np.zeros([len(time),len(wavelength)])\n",
    "\n",
    " \n",
    "\n",
    "# Looping assuming that vectorised wavelength is accepted\n",
    "jrecord = 42\n",
    "\n",
    "for j in tqdm(range(len(time))):\n",
    "\n",
    "    fraction_spot, fraction_planet, ff_spot, ff_planet = model.lc_mask_with_planet(spotted_mask, position_y[j], \n",
    "                                                                                   position_z[j], np.sqrt(tr_spectrum))\n",
    "    occulted_fraction     = fraction_spot_out[:,None] - fraction_spot #frazione macchiata che il pianeta sta occultando\n",
    "\n",
    "    if j==jrecord:\n",
    "        fraction_spot1, fraction_planet1, occulted_fraction1 = fraction_spot, fraction_planet, occulted_fraction\n",
    "    \n",
    "    try:\n",
    "        assert (occulted_fraction <= fraction_planet+1e-10).all()\n",
    "    except AssertionError as e:\n",
    "        print(f'time {j}, {occulted_fraction.sum()} {fraction_planet.sum()}')\n",
    "        raise e\n",
    "\n",
    "    excess                = np.sum(2.0*np.pi*model.radii[:,None]*model.deltar*abs_flux_phot.T\n",
    "                                   *occulted_fraction, axis=0)/np.pi\n",
    "    deficit               = np.sum(2.0*np.pi*model.radii[:,None]*model.deltar*abs_flux_spot.T\n",
    "                                   *occulted_fraction, axis=0)/np.pi\n",
    "    \n",
    "    spotlc_no_bumps[j]  = flux_out-(1.-flux_drop[:, j])*photosphere_phoenix\n",
    "    spotlc[j]           = spotlc_no_bumps[j]+excess-deficit"
   ]
  },
  {
   "cell_type": "code",
   "execution_count": null,
   "id": "ece9fa2e",
   "metadata": {
    "scrolled": false
   },
   "outputs": [],
   "source": [
    "plt.plot(time, spotlc/spotlc[0])\n",
    "plt.show()\n",
    "plt.plot(time, spotlc_no_bumps/spotlc_no_bumps[0])\n",
    "plt.show()\n",
    "\n",
    "_, ax = plt.subplots(4, sharex=True)\n",
    "plt.title(f'Timestep {jrecord}')\n",
    "ax[0].plot(fraction_spot_out.squeeze())\n",
    "ax[0].set_title('total spot fraction')\n",
    "ax[1].plot(fraction_planet1)\n",
    "ax[1].set_title('planet fraction')\n",
    "ax[2].plot(fraction_spot1)\n",
    "ax[2].set_title('visible spot fraction')\n",
    "ax[3].plot(occulted_fraction1)\n",
    "ax[2].set_title('occulted spot fraction') \n",
    "ax[3].set_xlabel('R')\n",
    "plt.tight_layout()\n",
    "plt.show()"
   ]
  }
 ],
 "metadata": {
  "kernelspec": {
   "display_name": "Python [conda env:palermo_star_model]",
   "language": "python",
   "name": "conda-env-palermo_star_model-py"
  },
  "language_info": {
   "codemirror_mode": {
    "name": "ipython",
    "version": 3
   },
   "file_extension": ".py",
   "mimetype": "text/x-python",
   "name": "python",
   "nbconvert_exporter": "python",
   "pygments_lexer": "ipython3",
   "version": "3.10.6"
  }
 },
 "nbformat": 4,
 "nbformat_minor": 5
}
