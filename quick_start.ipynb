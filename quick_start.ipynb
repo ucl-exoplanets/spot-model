{
 "cells": [
  {
   "cell_type": "code",
   "execution_count": null,
   "id": "18cb1291",
   "metadata": {},
   "outputs": [],
   "source": [
    "from spot_model import SpottedStar2D"
   ]
  },
  {
   "cell_type": "markdown",
   "id": "79e9c9f9",
   "metadata": {},
   "source": [
    "Let's first start with a **basic star** without any spot:"
   ]
  },
  {
   "cell_type": "code",
   "execution_count": null,
   "id": "5f329dad",
   "metadata": {},
   "outputs": [],
   "source": [
    "model = SpottedStar2D(nr=1000, nth=1000)  # optional arguments to choose the discretisation in r and theta \n",
    "model.show()\n",
    "print('filling factor:', model.ff)"
   ]
  },
  {
   "cell_type": "markdown",
   "id": "bff530b4",
   "metadata": {},
   "source": [
    "Let's now **add one spot** to the model:"
   ]
  },
  {
   "cell_type": "code",
   "execution_count": null,
   "id": "4cfb1a75",
   "metadata": {},
   "outputs": [],
   "source": [
    "model.add_spot(lat=30, lon=-45,rspot=0.2)\n",
    "model.show()\n",
    "print('filling factor:', model.ff)"
   ]
  },
  {
   "cell_type": "markdown",
   "id": "a861c869",
   "metadata": {},
   "source": [
    "Let's now define **multiple spots** from scratch:"
   ]
  },
  {
   "cell_type": "code",
   "execution_count": null,
   "id": "cb8fbae5",
   "metadata": {},
   "outputs": [],
   "source": [
    "model = SpottedStar2D(lat=[30, -13], lon=[-45,20],rspot=[0.1, 0.2])\n",
    "model.show()\n",
    "print('filling factor:', model.ff)"
   ]
  },
  {
   "cell_type": "markdown",
   "id": "c630c340",
   "metadata": {},
   "source": [
    "Wwhy not **adding a planet** at this point?"
   ]
  },
  {
   "cell_type": "code",
   "execution_count": null,
   "id": "629bedf9",
   "metadata": {},
   "outputs": [],
   "source": [
    "yp, zp, rp = -0.3, 0.05, 0.1 \n",
    "model.show(yp, zp, rp)\n",
    "ff_spot, planet_area = model.compute_ff(yp, zp, rp)\n",
    "print('observed spot filling factor:', ff_spot)\n",
    "print('planet/star obscuration ratio:', planet_area)"
   ]
  },
  {
   "cell_type": "markdown",
   "id": "058a63b6",
   "metadata": {},
   "source": [
    "Let's make this planet **occult a part of a spot** too:"
   ]
  },
  {
   "cell_type": "code",
   "execution_count": null,
   "id": "1662b92b",
   "metadata": {},
   "outputs": [],
   "source": [
    "yp, zp, rp = 0.3, 0, 0.1 \n",
    "model.show(yp, zp, rp)\n",
    "ff_spot, planet_area = model.compute_ff(yp, zp, rp)\n",
    "print('observed spot filling factor:', ff_spot)\n",
    "print('planet/star obscuration ratio:', planet_area)"
   ]
  },
  {
   "cell_type": "markdown",
   "id": "4a220f55",
   "metadata": {},
   "source": [
    "This planet could have three radii in **three different wavelengths**, resulting in as many dimensions in the filling factors."
   ]
  },
  {
   "cell_type": "code",
   "execution_count": null,
   "id": "9a5e8061",
   "metadata": {},
   "outputs": [],
   "source": [
    "yp, zp, rp = 0.3, 0., [0.097, 0.100, 0.103] \n",
    "model.show(yp, zp, rp)\n",
    "ff_spot, ff_planet = model.compute_ff(yp, zp, rp)\n",
    "print('observed spot filling factors:', ff_spot)\n",
    "print('planet/star obscuration ratios:', ff_planet)"
   ]
  },
  {
   "cell_type": "markdown",
   "id": "c26a4de2",
   "metadata": {},
   "source": [
    "accessing the **observed radial filling factor** can be useful:"
   ]
  },
  {
   "cell_type": "code",
   "execution_count": null,
   "id": "08293b61",
   "metadata": {},
   "outputs": [],
   "source": [
    "import matplotlib.pylab as plt \n",
    "\n",
    "rff_unocculted = model.rff\n",
    "rff_spot, rff_planet = model.compute_rff(yp, zp, rp)\n",
    "\n",
    "_, ax = plt.subplots(3, sharex=True, figsize=(10,6))\n",
    "ax[0].plot(model.radii, rff_unocculted)\n",
    "ax[0].set_title('unocculted spot radial filling factor')\n",
    "ax[1].plot(model.radii, rff_spot)\n",
    "ax[1].set_title('observed spot radial filling factor')\n",
    "ax[2].plot(model.radii, rff_planet)\n",
    "ax[2].set_title('planet/star radial obscuration ratio')\n",
    "ax[2].set_xlabel('$r$')\n",
    "pass"
   ]
  }
 ],
 "metadata": {
  "kernelspec": {
   "display_name": "Python [conda env:root] *",
   "language": "python",
   "name": "conda-root-py"
  },
  "language_info": {
   "codemirror_mode": {
    "name": "ipython",
    "version": 3
   },
   "file_extension": ".py",
   "mimetype": "text/x-python",
   "name": "python",
   "nbconvert_exporter": "python",
   "pygments_lexer": "ipython3",
   "version": "3.11.2"
  }
 },
 "nbformat": 4,
 "nbformat_minor": 5
}
